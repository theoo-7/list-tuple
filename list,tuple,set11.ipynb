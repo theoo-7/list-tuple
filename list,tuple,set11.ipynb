{
 "cells": [
  {
   "cell_type": "code",
   "execution_count": 9,
   "id": "bb2f5c89-3762-4e8f-8750-f51458159617",
   "metadata": {},
   "outputs": [
    {
     "name": "stdout",
     "output_type": "stream",
     "text": [
      "a is greater\n"
     ]
    }
   ],
   "source": [
    "a = 100\n",
    "b = 150\n",
    "c=  66\n",
    "\n",
    "if a>b or a>c:\n",
    "    print(\"a is greater\")\n",
    "elif b>a or b>c:  \n",
    "    print(\"b is greater\")\n",
    "else:\n",
    "    print(\"c is greater\")"
   ]
  },
  {
   "cell_type": "code",
   "execution_count": 17,
   "id": "7dadcdb6-ac1a-40f9-b851-a9e47ff1f649",
   "metadata": {},
   "outputs": [
    {
     "name": "stdout",
     "output_type": "stream",
     "text": [
      "[11, 22, 33, 44, 55, 66, 77, 33]\n"
     ]
    }
   ],
   "source": [
    "l=[11,22,33,44,55,66,77]\n",
    "l.append(33)\n",
    "print(l)"
   ]
  },
  {
   "cell_type": "code",
   "execution_count": 25,
   "id": "af343e7e-f1ca-4713-8924-4ce64d0701c6",
   "metadata": {},
   "outputs": [
    {
     "name": "stdout",
     "output_type": "stream",
     "text": [
      "[11, 22, 26, 44, 55, 66, 77]\n"
     ]
    }
   ],
   "source": [
    "l=[11,22,33,44,55,66,77]\n",
    "l[2]=26\n",
    "print(l)"
   ]
  },
  {
   "cell_type": "code",
   "execution_count": 29,
   "id": "ea822919-b5ec-4b94-a28e-f4345963b3fd",
   "metadata": {},
   "outputs": [
    {
     "data": {
      "text/plain": [
       "[44, 55, 66]"
      ]
     },
     "execution_count": 29,
     "metadata": {},
     "output_type": "execute_result"
    }
   ],
   "source": [
    "l=[11,22,33,44,55,66,77]\n",
    "l[3:-1]"
   ]
  },
  {
   "cell_type": "code",
   "execution_count": null,
   "id": "685241a0-18f2-40b5-9ac3-e8d7c34fa0ae",
   "metadata": {},
   "outputs": [],
   "source": []
  }
 ],
 "metadata": {
  "kernelspec": {
   "display_name": "Python [conda env:base] *",
   "language": "python",
   "name": "conda-base-py"
  },
  "language_info": {
   "codemirror_mode": {
    "name": "ipython",
    "version": 3
   },
   "file_extension": ".py",
   "mimetype": "text/x-python",
   "name": "python",
   "nbconvert_exporter": "python",
   "pygments_lexer": "ipython3",
   "version": "3.12.7"
  }
 },
 "nbformat": 4,
 "nbformat_minor": 5
}
