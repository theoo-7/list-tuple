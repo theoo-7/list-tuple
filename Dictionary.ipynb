{
 "cells": [
  {
   "cell_type": "code",
   "execution_count": 3,
   "id": "e2fb2c5f-8b84-4a5f-992c-658d15de8d33",
   "metadata": {},
   "outputs": [
    {
     "data": {
      "text/plain": [
       "1964"
      ]
     },
     "execution_count": 3,
     "metadata": {},
     "output_type": "execute_result"
    }
   ],
   "source": [
    "mydict = {\"brand\": \"Ford\",\"model\": \"Mustang\",\"year\": 1964}\n",
    "mydict[\"year\"]\n"
   ]
  },
  {
   "cell_type": "code",
   "execution_count": 7,
   "id": "521eb0f1-9221-482b-842c-7f72a39d5df7",
   "metadata": {},
   "outputs": [
    {
     "data": {
      "text/plain": [
       "{'stu1': 90, 'stu2': 89, 'stu3': 90}"
      ]
     },
     "execution_count": 7,
     "metadata": {},
     "output_type": "execute_result"
    }
   ],
   "source": [
    "mark={\"stu1\":90,\"stu2\":89,\"stu3\":90}\n",
    "mark[\"stu1\"]=90\n",
    "mark"
   ]
  },
  {
   "cell_type": "code",
   "execution_count": 9,
   "id": "e767ba7c-2744-4dfc-a98c-ed832e43a371",
   "metadata": {},
   "outputs": [
    {
     "data": {
      "text/plain": [
       "'Ford'"
      ]
     },
     "execution_count": 9,
     "metadata": {},
     "output_type": "execute_result"
    }
   ],
   "source": [
    "mydict[\"brand\"]"
   ]
  },
  {
   "cell_type": "code",
   "execution_count": 11,
   "id": "6a572742-859d-42d7-8041-9d0e3ed52665",
   "metadata": {},
   "outputs": [
    {
     "name": "stdout",
     "output_type": "stream",
     "text": [
      "3\n"
     ]
    }
   ],
   "source": [
    "print(len(mydict))"
   ]
  },
  {
   "cell_type": "code",
   "execution_count": 13,
   "id": "565e28d6-d9c6-4dd0-8f84-67584cbd8bdf",
   "metadata": {},
   "outputs": [
    {
     "data": {
      "text/plain": [
       "dict"
      ]
     },
     "execution_count": 13,
     "metadata": {},
     "output_type": "execute_result"
    }
   ],
   "source": [
    "    type(mydict)"
   ]
  },
  {
   "cell_type": "code",
   "execution_count": 15,
   "id": "1041f3af-ad57-4ab6-bf82-a242f47bc4d2",
   "metadata": {},
   "outputs": [
    {
     "data": {
      "text/plain": [
       "'Mustang'"
      ]
     },
     "execution_count": 15,
     "metadata": {},
     "output_type": "execute_result"
    }
   ],
   "source": [
    "mydict = {\n",
    "  \"brand\": \"Ford\",\n",
    "  \"model\": \"Mustang\",\n",
    "  \"year\": 1964\n",
    "}\n",
    "x = mydict[\"model\"]\n",
    "x"
   ]
  },
  {
   "cell_type": "code",
   "execution_count": 17,
   "id": "99b0c6cc-422b-4512-bc0e-792515a67de7",
   "metadata": {},
   "outputs": [
    {
     "data": {
      "text/plain": [
       "'Mustang'"
      ]
     },
     "execution_count": 17,
     "metadata": {},
     "output_type": "execute_result"
    }
   ],
   "source": [
    "x = mydict.get(\"model\")\n",
    "x"
   ]
  },
  {
   "cell_type": "code",
   "execution_count": 19,
   "id": "7d6282d5-de39-4f76-9834-7fd6803e69ae",
   "metadata": {},
   "outputs": [
    {
     "name": "stdout",
     "output_type": "stream",
     "text": [
      "dict_keys(['brand', 'model', 'year'])\n"
     ]
    }
   ],
   "source": [
    "print(mydict.keys())\n"
   ]
  },
  {
   "cell_type": "code",
   "execution_count": 21,
   "id": "cfbea622-a563-4bc5-9346-8a651ea9afc7",
   "metadata": {},
   "outputs": [
    {
     "name": "stdout",
     "output_type": "stream",
     "text": [
      "dict_values(['Ford', 'Mustang', 1964])\n"
     ]
    }
   ],
   "source": [
    "print(mydict.values())"
   ]
  },
  {
   "cell_type": "code",
   "execution_count": 23,
   "id": "1a2ab345-0f59-458e-8ecd-932179e191ba",
   "metadata": {},
   "outputs": [
    {
     "data": {
      "text/plain": [
       "{'brand': 'Ford', 'model': 'Mustang', 'year': 1964, 'new': 'name'}"
      ]
     },
     "execution_count": 23,
     "metadata": {},
     "output_type": "execute_result"
    }
   ],
   "source": [
    "mydict[\"new\"]=\"name\"\n",
    "mydict"
   ]
  },
  {
   "cell_type": "code",
   "execution_count": 25,
   "id": "31bdec3a-2ef1-4f09-8837-fc8cfdc9457e",
   "metadata": {},
   "outputs": [
    {
     "data": {
      "text/plain": [
       "{'brand': 'Ford', 'model': 'Mustang', 'year': 1964, 'new': 'id'}"
      ]
     },
     "execution_count": 25,
     "metadata": {},
     "output_type": "execute_result"
    }
   ],
   "source": [
    "mydict[\"new\"]=\"id\"\n",
    "mydict"
   ]
  },
  {
   "cell_type": "code",
   "execution_count": 27,
   "id": "f9107f32-6d80-4c66-815f-58cb4af9e1a7",
   "metadata": {},
   "outputs": [
    {
     "data": {
      "text/plain": [
       "{'brand': 'Ford', 'model': 'Mustang', 'year': 1964, 'year1': 2020}"
      ]
     },
     "execution_count": 27,
     "metadata": {},
     "output_type": "execute_result"
    }
   ],
   "source": [
    "mydict = {\n",
    "  \"brand\": \"Ford\",\n",
    "  \"model\": \"Mustang\",\n",
    "  \"year\": 1964\n",
    "}\n",
    "mydict.update({\"year1\": 2020})\n",
    "mydict"
   ]
  },
  {
   "cell_type": "code",
   "execution_count": 29,
   "id": "1a60ff5d-e934-4c2d-9680-d8a48a7891d5",
   "metadata": {},
   "outputs": [
    {
     "data": {
      "text/plain": [
       "{'brand': 'Ford',\n",
       " 'model': 'Mustang',\n",
       " 'year': 1964,\n",
       " 'year1': 2020,\n",
       " 'version': 2.0}"
      ]
     },
     "execution_count": 29,
     "metadata": {},
     "output_type": "execute_result"
    }
   ],
   "source": [
    "mydict.update({\"version\": 2.0})\n",
    "mydict"
   ]
  },
  {
   "cell_type": "code",
   "execution_count": 31,
   "id": "2d7f438c-0a0a-4185-9188-15a0805d5338",
   "metadata": {},
   "outputs": [
    {
     "name": "stdout",
     "output_type": "stream",
     "text": [
      "{'brand': 'Ford', 'year': 1964}\n"
     ]
    }
   ],
   "source": [
    "mydict = {\n",
    "  \"brand\": \"Ford\",\n",
    "  \"model\": \"Mustang\",\n",
    "  \"year\": 1964\n",
    "}\n",
    "mydict.pop(\"model\")\n",
    "print(mydict)"
   ]
  },
  {
   "cell_type": "code",
   "execution_count": 33,
   "id": "4046af77-85a7-4cf3-9dc6-71300eee5592",
   "metadata": {},
   "outputs": [
    {
     "name": "stdout",
     "output_type": "stream",
     "text": [
      "{'brand': 'Ford', 'model': 'Mustang'}\n"
     ]
    }
   ],
   "source": [
    "thisdict = {\n",
    "  \"brand\": \"Ford\",\n",
    "  \"model\": \"Mustang\",\n",
    "  \"year\": 1964\n",
    "}\n",
    "thisdict.popitem()\n",
    "print(thisdict)"
   ]
  },
  {
   "cell_type": "code",
   "execution_count": 35,
   "id": "1d4f0d04-358f-472e-ba4a-b433ab307ee0",
   "metadata": {},
   "outputs": [
    {
     "name": "stdout",
     "output_type": "stream",
     "text": [
      "{'brand': 'Ford', 'model': 'Mustang'}\n"
     ]
    }
   ],
   "source": [
    "mydict = {\n",
    "  \"brand\": \"Ford\",\n",
    "  \"model\": \"Mustang\",\n",
    "  \"year\": 1964}\n",
    "\n",
    "del mydict[\"year\"]\n",
    "print(mydict)"
   ]
  },
  {
   "cell_type": "code",
   "execution_count": 37,
   "id": "06fbd422-0e4c-4039-bc00-3ef20fb80835",
   "metadata": {},
   "outputs": [
    {
     "name": "stdout",
     "output_type": "stream",
     "text": [
      "{}\n"
     ]
    }
   ],
   "source": [
    "mydict = {\n",
    "  \"brand\": \"Ford\",\n",
    "  \"model\": \"Mustang\",\n",
    "  \"year\": 1964\n",
    "}\n",
    "mydict.clear()\n",
    "print(mydict)"
   ]
  },
  {
   "cell_type": "code",
   "execution_count": 41,
   "id": "17032c31-cc30-4030-9aa0-317fd12d9045",
   "metadata": {},
   "outputs": [],
   "source": [
    "mydict = {\n",
    "  \"brand\": \"Ford\",\n",
    "  \"model\": \"Mustang\",\n",
    "  \"year\": 1964\n",
    "}\n"
   ]
  },
  {
   "cell_type": "code",
   "execution_count": null,
   "id": "a6773bf8-764f-4d76-8c84-2e051709c567",
   "metadata": {},
   "outputs": [],
   "source": []
  }
 ],
 "metadata": {
  "kernelspec": {
   "display_name": "Python [conda env:base] *",
   "language": "python",
   "name": "conda-base-py"
  },
  "language_info": {
   "codemirror_mode": {
    "name": "ipython",
    "version": 3
   },
   "file_extension": ".py",
   "mimetype": "text/x-python",
   "name": "python",
   "nbconvert_exporter": "python",
   "pygments_lexer": "ipython3",
   "version": "3.12.7"
  }
 },
 "nbformat": 4,
 "nbformat_minor": 5
}
