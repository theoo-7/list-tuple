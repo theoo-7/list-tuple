{
 "cells": [
  {
   "cell_type": "code",
   "execution_count": 1,
   "id": "b22a7a36-1b9c-4f09-be73-35641b015e5b",
   "metadata": {},
   "outputs": [
    {
     "data": {
      "text/plain": [
       "{5, 8, 9, 90, False, True, 'apple', 'banana', 'cherry'}"
      ]
     },
     "execution_count": 1,
     "metadata": {},
     "output_type": "execute_result"
    }
   ],
   "source": [
    "myset = {\"apple\", \"banana\", \"cherry\", False, True, 1,0,5,9,90,8,90}\n",
    "myset"
   ]
  },
  {
   "cell_type": "code",
   "execution_count": 3,
   "id": "1d61c182-a392-4d56-8ff8-85c15fbc956e",
   "metadata": {},
   "outputs": [
    {
     "name": "stdout",
     "output_type": "stream",
     "text": [
      "9\n"
     ]
    }
   ],
   "source": [
    "print(len(myset))"
   ]
  },
  {
   "cell_type": "code",
   "execution_count": 5,
   "id": "1343d033-6007-402b-a69b-5eafc029a8c3",
   "metadata": {},
   "outputs": [
    {
     "data": {
      "text/plain": [
       "{1, 2, 3, 4}"
      ]
     },
     "execution_count": 5,
     "metadata": {},
     "output_type": "execute_result"
    }
   ],
   "source": [
    "\n",
    "a={1,1,2,2,2,2,3,4,4}\n",
    "a"
   ]
  },
  {
   "cell_type": "code",
   "execution_count": 7,
   "id": "c9146837-8f48-43b7-bf43-9c4ae4598ee5",
   "metadata": {},
   "outputs": [
    {
     "data": {
      "text/plain": [
       "{1, 2, 3, 454}"
      ]
     },
     "execution_count": 7,
     "metadata": {},
     "output_type": "execute_result"
    }
   ],
   "source": [
    "mylist=[1,2,2,2,3,454]\n",
    "myset=set(mylist)\n",
    "myset"
   ]
  },
  {
   "cell_type": "code",
   "execution_count": 13,
   "id": "41e5544a-d5ec-4729-8e0a-68332cd0f81b",
   "metadata": {},
   "outputs": [
    {
     "name": "stdout",
     "output_type": "stream",
     "text": [
      "apple\n",
      "cherry\n",
      "banana\n"
     ]
    }
   ],
   "source": [
    "myset = {\"apple\", \"banana\", \"cherry\"}\n",
    "\n",
    "for t in myset:\n",
    "  print(t)"
   ]
  },
  {
   "cell_type": "code",
   "execution_count": 15,
   "id": "c4d685fa-7006-4e69-933b-678a93bbeedc",
   "metadata": {},
   "outputs": [
    {
     "data": {
      "text/plain": [
       "{1, 2, 3, 4}"
      ]
     },
     "execution_count": 15,
     "metadata": {},
     "output_type": "execute_result"
    }
   ],
   "source": [
    "myset = {1,1,1,1,2,3,3,4}\n",
    "myset"
   ]
  },
  {
   "cell_type": "code",
   "execution_count": 27,
   "id": "6c6fabbc-7f69-4140-9ac2-a9fb1aea278c",
   "metadata": {},
   "outputs": [
    {
     "name": "stdout",
     "output_type": "stream",
     "text": [
      "{'apple', 'cherry', 'banana', 'theo'}\n"
     ]
    }
   ],
   "source": [
    "myset = {\"apple\", \"banana\", \"cherry\"}\n",
    "\n",
    "myset.add(\"theo\")\n",
    "\n",
    "print(myset)"
   ]
  },
  {
   "cell_type": "code",
   "execution_count": 37,
   "id": "8471d023-47ff-4706-82fb-b4d78fd57ba1",
   "metadata": {},
   "outputs": [
    {
     "name": "stdout",
     "output_type": "stream",
     "text": [
      "{'apple', 'pineapple', 'cherry', 'banana', 'mango', 'papaya'}\n"
     ]
    }
   ],
   "source": [
    "#doubt\n",
    "myset = {\"apple\", \"banana\", \"cherry\"}\n",
    "myset1 = {\"pineapple\", \"mango\", \"papaya\"}\n",
    "\n",
    "myset.update(myset1)\n",
    "\n",
    "print(myset)"
   ]
  },
  {
   "cell_type": "code",
   "execution_count": 39,
   "id": "f51865ca-2e07-4f27-86f4-12f864a0ffd4",
   "metadata": {},
   "outputs": [
    {
     "name": "stdout",
     "output_type": "stream",
     "text": [
      "{'apple', 'orange', 'cherry', 'banana', 'kiwi'}\n"
     ]
    }
   ],
   "source": [
    "#myset = {\"apple\", \"banana\", \"cherry\"}\n",
    "mylist = {\"kiwi\", \"orange\",\"apple\"}\n",
    "\n",
    "myset.update(mylist)\n",
    "\n",
    "print(myset)"
   ]
  },
  {
   "cell_type": "code",
   "execution_count": 41,
   "id": "c5ddf001-e20b-4323-a99b-7f3c7b2c5a78",
   "metadata": {},
   "outputs": [
    {
     "name": "stdout",
     "output_type": "stream",
     "text": [
      "{'apple', 'cherry'}\n"
     ]
    }
   ],
   "source": [
    "myset = {\"apple\", \"banana\", \"cherry\"}\n",
    "\n",
    "myset.remove(\"banana\")\n",
    "\n",
    "print(myset)"
   ]
  },
  {
   "cell_type": "code",
   "execution_count": 43,
   "id": "bdca41e5-0567-441c-a354-aa41176adc2e",
   "metadata": {},
   "outputs": [
    {
     "name": "stdout",
     "output_type": "stream",
     "text": [
      "{'apple', 'cherry'}\n"
     ]
    }
   ],
   "source": [
    "myset = {\"apple\", \"banana\", \"cherry\"}\n",
    "\n",
    "myset.discard(\"banana\")\n",
    "\n",
    "print(myset)"
   ]
  },
  {
   "cell_type": "code",
   "execution_count": 45,
   "id": "0dc0a5ab-da08-4a7b-9864-eec898a92261",
   "metadata": {},
   "outputs": [
    {
     "name": "stdout",
     "output_type": "stream",
     "text": [
      "{0, 'apple', 'banana', 8.0, 'hji'}\n",
      "0\n",
      "{'apple', 'banana', 8.0, 'hji'}\n"
     ]
    }
   ],
   "source": [
    "myset = { \"banana\",\"apple\",0,\"hji\",8.0}\n",
    "print(myset)\n",
    "x = myset.pop()\n",
    "\n",
    "print(x)\n",
    "\n",
    "print(myset)"
   ]
  },
  {
   "cell_type": "code",
   "execution_count": null,
   "id": "ae4053c7-2241-4fcc-bcca-f026dd18d5de",
   "metadata": {},
   "outputs": [],
   "source": []
  }
 ],
 "metadata": {
  "kernelspec": {
   "display_name": "Python [conda env:base] *",
   "language": "python",
   "name": "conda-base-py"
  },
  "language_info": {
   "codemirror_mode": {
    "name": "ipython",
    "version": 3
   },
   "file_extension": ".py",
   "mimetype": "text/x-python",
   "name": "python",
   "nbconvert_exporter": "python",
   "pygments_lexer": "ipython3",
   "version": "3.12.7"
  }
 },
 "nbformat": 4,
 "nbformat_minor": 5
}
